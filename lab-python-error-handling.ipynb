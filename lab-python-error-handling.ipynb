{
 "cells": [
  {
   "cell_type": "markdown",
   "id": "25d7736c-ba17-4aff-b6bb-66eba20fbf4e",
   "metadata": {},
   "source": [
    "# Lab | Error Handling"
   ]
  },
  {
   "cell_type": "markdown",
   "id": "bc99b386-7508-47a0-bcdb-d969deaf6c8b",
   "metadata": {},
   "source": [
    "## Exercise: Error Handling for Managing Customer Orders\n",
    "\n",
    "The implementation of your code for managing customer orders assumes that the user will always enter a valid input. \n",
    "\n",
    "For example, we could modify the `initialize_inventory` function to include error handling.\n",
    "   - If the user enters an invalid quantity (e.g., a negative value or a non-numeric value), display an error message and ask them to re-enter the quantity for that product.\n",
    "   - Use a try-except block to handle the error and continue prompting the user until a valid quantity is entered.\n",
    "\n",
    "```python\n",
    "# Step 1: Define the function for initializing the inventory with error handling\n",
    "def initialize_inventory(products):\n",
    "    inventory = {}\n",
    "    for product in products:\n",
    "        valid_quantity = False\n",
    "        while not valid_quantity:\n",
    "            try:\n",
    "                quantity = int(input(f\"Enter the quantity of {product}s available: \"))\n",
    "                if quantity < 0:\n",
    "                    raise ValueError(\"Invalid quantity! Please enter a non-negative value.\")\n",
    "                valid_quantity = True\n",
    "            except ValueError as error:\n",
    "                print(f\"Error: {error}\")\n",
    "        inventory[product] = quantity\n",
    "    return inventory\n",
    "\n",
    "# Or, in another way:\n",
    "\n",
    "def initialize_inventory(products):\n",
    "    inventory = {}\n",
    "    for product in products:\n",
    "        valid_input = False\n",
    "        while not valid_input:\n",
    "            try:\n",
    "                quantity = int(input(f\"Enter the quantity of {product}s available: \"))\n",
    "                if quantity >= 0:\n",
    "                    inventory[product] = quantity\n",
    "                    valid_input = True\n",
    "                else:\n",
    "                    print(\"Quantity cannot be negative. Please enter a valid quantity.\")\n",
    "            except ValueError:\n",
    "                print(\"Invalid input. Please enter a valid quantity.\")\n",
    "    return inventory\n",
    "```\n",
    "\n",
    "Let's enhance your code by implementing error handling to handle invalid inputs.\n",
    "\n",
    "Follow the steps below to complete the exercise:\n",
    "\n",
    "2. Modify the `calculate_total_price` function to include error handling.\n",
    "   - If the user enters an invalid price (e.g., a negative value or a non-numeric value), display an error message and ask them to re-enter the price for that product.\n",
    "   - Use a try-except block to handle the error and continue prompting the user until a valid price is entered.\n",
    "\n",
    "3. Modify the `get_customer_orders` function to include error handling.\n",
    "   - If the user enters an invalid number of orders (e.g., a negative value or a non-numeric value), display an error message and ask them to re-enter the number of orders.\n",
    "   - If the user enters an invalid product name (e.g., a product name that is not in the inventory), or that doesn't have stock available, display an error message and ask them to re-enter the product name. *Hint: you will need to pass inventory as a parameter*\n",
    "   - Use a try-except block to handle the error and continue prompting the user until a valid product name is entered.\n",
    "\n",
    "4. Test your code by running the program and deliberately entering invalid quantities and product names. Make sure the error handling mechanism works as expected.\n"
   ]
  },
  {
   "cell_type": "code",
   "execution_count": 3,
   "id": "ea8ebadb-9db6-4699-b02c-b579e43da7a1",
   "metadata": {},
   "outputs": [
    {
     "name": "stdout",
     "output_type": "stream",
     "text": [
      "Enter the product names. Type 'done' when finished.\n"
     ]
    },
    {
     "name": "stdin",
     "output_type": "stream",
     "text": [
      "Enter a product name:  book\n",
      "Enter a product name:  mug\n",
      "Enter a product name:  key\n",
      "Enter a product name:  shoes\n",
      "Enter a product name:  card\n",
      "Enter a product name:  done\n",
      "Enter the quantity of books available:  done\n"
     ]
    },
    {
     "name": "stdout",
     "output_type": "stream",
     "text": [
      "Error: Invalid input. Please enter a valid number for the quantity.\n"
     ]
    },
    {
     "name": "stdin",
     "output_type": "stream",
     "text": [
      "Enter the quantity of books available:  -4\n"
     ]
    },
    {
     "name": "stdout",
     "output_type": "stream",
     "text": [
      "Error: Quantity cannot be negative. Please enter a non-negative value.\n"
     ]
    },
    {
     "name": "stdin",
     "output_type": "stream",
     "text": [
      "Enter the quantity of books available:  10\n",
      "Enter the quantity of mugs available:  10\n",
      "Enter the quantity of keys available:  10\n",
      "Enter the quantity of shoess available:  10\n",
      "Enter the quantity of cards available:  10\n"
     ]
    },
    {
     "name": "stdout",
     "output_type": "stream",
     "text": [
      "Final Inventory: {'book': 10, 'mug': 10, 'key': 10, 'shoes': 10, 'card': 10}\n"
     ]
    }
   ],
   "source": [
    "def get_products():\n",
    "    \"\"\"\n",
    "    Prompt the user to enter product names until 'done' is entered.\n",
    "    \n",
    "    Returns:\n",
    "        list: A list of product names entered by the user.\n",
    "    \"\"\"\n",
    "    products = []\n",
    "    print(\"Enter the product names. Type 'done' when finished.\")\n",
    "    while True:\n",
    "        product = input(\"Enter a product name: \").strip()\n",
    "        if product.lower() == 'done':\n",
    "            break\n",
    "        if product:  # Ensure non-empty product names\n",
    "            products.append(product)\n",
    "        else:\n",
    "            print(\"Product name cannot be empty. Please try again.\")\n",
    "    return products\n",
    "\n",
    "\n",
    "def initialize_inventory(products):\n",
    "    \"\"\"\n",
    "    Initialize the inventory with error handling for invalid quantities.\n",
    "    \n",
    "    Args:\n",
    "        products (list): List of product names.\n",
    "    \n",
    "    Returns:\n",
    "        dict: A dictionary with product names as keys and quantities as values.\n",
    "    \"\"\"\n",
    "    inventory = {}\n",
    "    for product in products:\n",
    "        while True:\n",
    "            try:\n",
    "                quantity = int(input(f\"Enter the quantity of {product}s available: \"))\n",
    "                if quantity < 0:\n",
    "                    print(\"Error: Quantity cannot be negative. Please enter a non-negative value.\")\n",
    "                    continue  # Prompt again if the quantity is negative\n",
    "                inventory[product] = quantity\n",
    "                break  # Exit the loop once a valid quantity is entered\n",
    "            except ValueError:\n",
    "                print(\"Error: Invalid input. Please enter a valid number for the quantity.\")\n",
    "    return inventory\n",
    "\n",
    "\n",
    "# Main Program\n",
    "products = get_products()  # Get user-defined products\n",
    "\n",
    "if products:\n",
    "    inventory = initialize_inventory(products)  # Initialize inventory with user-specified quantities\n",
    "    print(\"Final Inventory:\", inventory)\n",
    "else:\n",
    "    print(\"No products entered. Inventory initialization skipped.\")\n"
   ]
  },
  {
   "cell_type": "code",
   "execution_count": 4,
   "id": "3c0446b6-27b7-487c-a5b8-905503484f2a",
   "metadata": {},
   "outputs": [
    {
     "name": "stdout",
     "output_type": "stream",
     "text": [
      "Enter the product names and quantities for your order. Type 'done' when finished.\n"
     ]
    },
    {
     "name": "stdin",
     "output_type": "stream",
     "text": [
      "Enter the name of the product:  book\n",
      "Enter the quantity for book:  1\n",
      "Enter the name of the product:  mug\n",
      "Enter the quantity for mug:  0\n"
     ]
    },
    {
     "name": "stdout",
     "output_type": "stream",
     "text": [
      "Error: Quantity must be a positive integer. Please enter a valid quantity.\n"
     ]
    },
    {
     "name": "stdin",
     "output_type": "stream",
     "text": [
      "Enter the quantity for mug:  -5\n"
     ]
    },
    {
     "name": "stdout",
     "output_type": "stream",
     "text": [
      "Error: Quantity must be a positive integer. Please enter a valid quantity.\n"
     ]
    },
    {
     "name": "stdin",
     "output_type": "stream",
     "text": [
      "Enter the quantity for mug:  1\n",
      "Enter the name of the product:  done\n"
     ]
    },
    {
     "name": "stdout",
     "output_type": "stream",
     "text": [
      "Final order: {'book': 1, 'mug': 1}\n"
     ]
    },
    {
     "name": "stdin",
     "output_type": "stream",
     "text": [
      "Enter the price of book:  10\n",
      "Enter the price of mug:  10\n"
     ]
    },
    {
     "name": "stdout",
     "output_type": "stream",
     "text": [
      "The total price of the order is: $20.00\n"
     ]
    }
   ],
   "source": [
    "\n",
    "def get_customer_orders(inventory):\n",
    "    \"\"\"\n",
    "    Prompt the user to enter products and their quantities for the order.\n",
    "    \n",
    "    Args:\n",
    "        inventory (dict): A dictionary containing the available products and their quantities.\n",
    "    \n",
    "    Returns:\n",
    "        dict: A dictionary of customer orders with product names as keys and quantities as values.\n",
    "    \"\"\"\n",
    "    customer_orders = {}\n",
    "    \n",
    "    print(\"Enter the product names and quantities for your order. Type 'done' when finished.\")\n",
    "    while True:\n",
    "        product = input(\"Enter the name of the product: \").strip()\n",
    "        \n",
    "        if product.lower() == 'done':\n",
    "            break\n",
    "        \n",
    "        if product not in inventory:\n",
    "            print(f\"Error: {product} is not available in the inventory. Please choose an available product.\")\n",
    "            continue\n",
    "        \n",
    "        while True:\n",
    "            try:\n",
    "                qty = int(input(f\"Enter the quantity for {product}: \"))\n",
    "                if qty <= 0:\n",
    "                    print(\"Error: Quantity must be a positive integer. Please enter a valid quantity.\")\n",
    "                    continue\n",
    "                if qty > inventory[product]:\n",
    "                    print(f\"Error: We only have {inventory[product]} {product}s in stock. Please enter a valid quantity.\")\n",
    "                    continue\n",
    "                customer_orders[product] = qty\n",
    "                break\n",
    "            except ValueError:\n",
    "                print(\"Error: Invalid input. Please enter a valid quantity (numeric value).\")\n",
    "    \n",
    "    return customer_orders\n",
    "\n",
    "\n",
    "def calculate_total_price(customer_orders):\n",
    "    \"\"\"\n",
    "    Calculate the total price for a customer's order. \n",
    "    \n",
    "    Args:\n",
    "        customer_orders (dict): A dictionary of customer orders with product names as keys and quantities as values.\n",
    "    \n",
    "    Returns:\n",
    "        float: The total price of the customer order.\n",
    "    \"\"\"\n",
    "    total_price = 0.0\n",
    "    \n",
    "    for product, qty in customer_orders.items():\n",
    "        while True:\n",
    "            try:\n",
    "                price = float(input(f\"Enter the price of {product}: \"))\n",
    "                if price < 0:\n",
    "                    print(\"Error: Price cannot be negative. Please enter a valid price.\")\n",
    "                    continue  # Ask for price again if it's negative\n",
    "                total_price += price * qty  # Add price times quantity to the total\n",
    "                break  # Exit the loop once a valid price is entered\n",
    "            except ValueError:\n",
    "                print(\"Error: Invalid input. Please enter a valid price (numeric value).\")\n",
    "    \n",
    "    return total_price\n",
    "\n",
    "\n",
    "# Get customer orders\n",
    "customer_orders = get_customer_orders(inventory)\n",
    "\n",
    "# Print the customer orders\n",
    "print(\"Final order:\", customer_orders)\n",
    "\n",
    "# Calculate and display the total price\n",
    "total = calculate_total_price(customer_orders)\n",
    "print(f\"The total price of the order is: ${total:.2f}\")\n"
   ]
  },
  {
   "cell_type": "code",
   "execution_count": null,
   "id": "d44f239d-1307-4867-ae6a-6b6cab72d6f8",
   "metadata": {},
   "outputs": [],
   "source": []
  }
 ],
 "metadata": {
  "kernelspec": {
   "display_name": "Python 3 (ipykernel)",
   "language": "python",
   "name": "python3"
  },
  "language_info": {
   "codemirror_mode": {
    "name": "ipython",
    "version": 3
   },
   "file_extension": ".py",
   "mimetype": "text/x-python",
   "name": "python",
   "nbconvert_exporter": "python",
   "pygments_lexer": "ipython3",
   "version": "3.12.7"
  }
 },
 "nbformat": 4,
 "nbformat_minor": 5
}
